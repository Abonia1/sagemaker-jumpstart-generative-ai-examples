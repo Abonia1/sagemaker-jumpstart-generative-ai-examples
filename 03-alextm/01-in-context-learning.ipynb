{
 "cells": [
  {
   "cell_type": "markdown",
   "id": "b3ca1226-f997-41d8-b383-54367ddfabf5",
   "metadata": {},
   "source": [
    "## Foundation Model - AlexTM (In-context Learning)"
   ]
  },
  {
   "cell_type": "markdown",
   "id": "21e8ef52-2eaa-40e4-8568-2638925caffe",
   "metadata": {},
   "source": [
    "#### Imports "
   ]
  },
  {
   "cell_type": "code",
   "execution_count": 3,
   "id": "e895edbf-bdb4-4a7a-87d3-fe148dc86015",
   "metadata": {
    "tags": []
   },
   "outputs": [],
   "source": [
    "from sagemaker.utils import name_from_base\n",
    "from sagemaker.predictor import Predictor\n",
    "from sagemaker import get_execution_role\n",
    "from sagemaker import hyperparameters\n",
    "from sagemaker.model import Model\n",
    "from sagemaker import script_uris\n",
    "from sagemaker import image_uris \n",
    "from sagemaker import model_uris\n",
    "from datetime import datetime\n",
    "import sagemaker\n",
    "import json"
   ]
  },
  {
   "cell_type": "markdown",
   "id": "06e4161b-3dc9-43ff-984d-8d54df5ffdc5",
   "metadata": {},
   "source": [
    "#### Setup logging"
   ]
  },
  {
   "cell_type": "code",
   "execution_count": null,
   "id": "9f715a34-d1af-4085-93d9-14e816b99f99",
   "metadata": {},
   "outputs": [],
   "source": []
  },
  {
   "cell_type": "markdown",
   "id": "15b3fcad-4417-42d8-ac9b-14840370bc41",
   "metadata": {},
   "source": [
    "#### Log versions of dependencies "
   ]
  },
  {
   "cell_type": "code",
   "execution_count": null,
   "id": "bd05f5c3-35d0-4865-9eda-93c171306003",
   "metadata": {},
   "outputs": [],
   "source": []
  },
  {
   "cell_type": "code",
   "execution_count": null,
   "id": "7cf16de9-8963-49a3-9bcc-f9524b5469b4",
   "metadata": {},
   "outputs": [],
   "source": [
    "\n",
    "\n",
    "\n",
    "# model_version = \"*\" fetches the latest version of the model\n",
    "model_id, model_version = \"pytorch-textgeneration1-alexa20b\", \"*\"\n",
    "\n",
    "endpoint_name = name_from_base(f\"jumpstart-example-infer-{model_id}\")\n",
    "\n",
    "endpoint_config_name = \"config-\" + endpoint_name\n"
   ]
  },
  {
   "cell_type": "code",
   "execution_count": null,
   "id": "13c2f847-149a-451d-9093-6aa871c3af90",
   "metadata": {},
   "outputs": [],
   "source": []
  },
  {
   "cell_type": "code",
   "execution_count": null,
   "id": "9cc8c438-0400-49b8-992f-cfc4a384614d",
   "metadata": {},
   "outputs": [],
   "source": [
    "aws_role = get_execution_role()"
   ]
  },
  {
   "cell_type": "code",
   "execution_count": null,
   "id": "04805ed6-d813-4a87-8874-ee8d8e8d0da9",
   "metadata": {},
   "outputs": [],
   "source": []
  },
  {
   "cell_type": "code",
   "execution_count": null,
   "id": "81f64f6a-d2b4-41cd-8828-4e48c7df8f1f",
   "metadata": {},
   "outputs": [],
   "source": []
  },
  {
   "cell_type": "code",
   "execution_count": null,
   "id": "6d56996f-8dfc-499d-b073-29889f9a5c42",
   "metadata": {},
   "outputs": [],
   "source": []
  }
 ],
 "metadata": {
  "instance_type": "ml.t3.medium",
  "kernelspec": {
   "display_name": "Python 3 (Data Science)",
   "language": "python",
   "name": "python3__SAGEMAKER_INTERNAL__arn:aws:sagemaker:us-east-1:081325390199:image/datascience-1.0"
  },
  "language_info": {
   "codemirror_mode": {
    "name": "ipython",
    "version": 3
   },
   "file_extension": ".py",
   "mimetype": "text/x-python",
   "name": "python",
   "nbconvert_exporter": "python",
   "pygments_lexer": "ipython3",
   "version": "3.7.10"
  }
 },
 "nbformat": 4,
 "nbformat_minor": 5
}
